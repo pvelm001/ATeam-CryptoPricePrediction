{
 "cells": [
  {
   "cell_type": "markdown",
   "id": "44e888de-c990-4769-8bdb-728f8aa89890",
   "metadata": {},
   "source": [
    "I scraped ***IGN's Top 100 video games***. First I took the ranking information from the main URL and then scraped all the 100 sub-websites (of games) to get detailed variables"
   ]
  },
  {
   "cell_type": "code",
   "execution_count": 1,
   "id": "c52e9b6a-5bce-44ef-8cfb-b06787d301b0",
   "metadata": {},
   "outputs": [],
   "source": [
    "#Importing headers and libraries\n",
    "import requests\n",
    "#!pip3 install --user bs4\n",
    "from bs4 import BeautifulSoup"
   ]
  },
  {
   "cell_type": "code",
   "execution_count": 2,
   "id": "356a3484-b734-49d7-b39f-7c8bb4e67331",
   "metadata": {},
   "outputs": [],
   "source": [
    "#Scraping IGN website\n",
    "def Scrape_N_Parse(url) :\n",
    "    headers = {'User-Agent': 'Mozilla/5.0 (Windows NT 10.0; Win64; x64) AppleWebKit/537.36 (KHTML, like Gecko) Chrome/92.0.4515.131 Safari/537.36'}\n",
    "    response = requests.get(url, headers = headers)\n",
    "    parsed_response = BeautifulSoup(response.content, \"html.parser\")\n",
    "    return parsed_response"
   ]
  },
  {
   "cell_type": "code",
   "execution_count": 3,
   "id": "686b2a02-cc0d-44a8-90ef-2b7b083d17f4",
   "metadata": {},
   "outputs": [],
   "source": [
    "#Parsing the IGN site\n",
    "IGN_response = Scrape_N_Parse('https://www.ign.com/lists/top-100-games/100/')"
   ]
  },
  {
   "cell_type": "code",
   "execution_count": 4,
   "id": "8c967841-e978-4fb7-b3bf-efea4aee55b6",
   "metadata": {},
   "outputs": [
    {
     "name": "stdout",
     "output_type": "stream",
     "text": [
      "Number of Game found :  100  Number of Rank found :  102  Number of Year found :  100\n",
      "Number of Game found :  100  Number of Rank found :  100  Number of Year found :  100\n"
     ]
    }
   ],
   "source": [
    "#Collecting Ranking information\n",
    "game_name = IGN_response.find_all('div', class_='item-heading')\n",
    "game_rank = IGN_response.find_all('div', class_='badge-number')\n",
    "game_year = IGN_response.find_all('span', class_='item-label-value')\n",
    "print('Number of Game found : ', len(game_name), \n",
    "     ' Number of Rank found : ', len(game_rank),\n",
    "     ' Number of Year found : ', len(game_year))\n",
    "game_rank = game_rank[2:] # Removing the contradicting information\n",
    "print('Number of Game found : ', len(game_name), \n",
    "     ' Number of Rank found : ', len(game_rank),\n",
    "     ' Number of Year found : ', len(game_year))"
   ]
  },
  {
   "cell_type": "markdown",
   "id": "671e9b32-d977-4c42-89d2-d4ebb45cf26d",
   "metadata": {},
   "source": [
    "I found two additional ranks. On further checking the html I found that the rank 100 was ***repeated 3 times*** for mentioning the page ranks 100 games at the start, so I ***sliced*** it out"
   ]
  },
  {
   "cell_type": "code",
   "execution_count": 5,
   "id": "6acdd6a6-9370-444c-8cdc-d6c7a92edda4",
   "metadata": {},
   "outputs": [],
   "source": [
    "#Collecting Game information\n",
    "game_link = []\n",
    "for index in range(100) : \n",
    "    game_url = game_name[index].contents[1]['href']\n",
    "    if game_url == '' : \n",
    "        game_url = 'https://www.google.com/search?q=' + game_name[index].text\n",
    "    game_link.append(game_url)"
   ]
  },
  {
   "cell_type": "code",
   "execution_count": null,
   "id": "4a06a5dd-ed12-4d22-a7b2-d8f38bb8e650",
   "metadata": {},
   "outputs": [],
   "source": [
    "#Cleaning Game information\n",
    "games = []\n",
    "\n",
    "for index in range(100) :\n",
    "\n",
    "    Developer = None; Publisher = None; Genre = None; Franchise = None; Platform = None; Release_Date = None;\n",
    "    \n",
    "    if 'www.ign.com' in game_link[index] : \n",
    "        info = [item.text for item in Scrape_N_Parse(game_link[index]).find_all('div') if \"data-cy\" in item.attrs]\n",
    "        for element in info : \n",
    "            if 'Developer' in element : \n",
    "                Developer = element[element.index(':') + 1 : ].strip(' ')\n",
    "            elif 'Publisher' in element : \n",
    "                Publisher = element[element.index(':') + 1 : ].strip(' ')\n",
    "            elif 'Genre' in element :  \n",
    "                Genre = element[element.index(':') + 1 : ].strip(' ')\n",
    "            elif 'Franchise' in element :  \n",
    "                Franchise = element[element.index(':') + 1 : ].strip(' ')\n",
    "            elif 'Platform' in element :  \n",
    "                Platform = element[element.index(':') + 1 : ].strip(' ')\n",
    "            elif 'Release Date' in element :  \n",
    "                Release_Date = element[element.index(':') + 1 : ].strip(' ')\n",
    "                \n",
    "    elif 'www.google.com' in game_link[index] : \n",
    "        info = Scrape_N_Parse(game_link[index]).find_all('div', class_='rVusze')\n",
    "        for element in info : \n",
    "            if 'Developer' in element.text : \n",
    "                Developer = element.text[element.text.index(':') + 1 : ].strip(' ')\n",
    "            elif 'Publisher' in element.text : \n",
    "                Publisher = element.text[element.text.index(':') + 1 : ].strip(' ')\n",
    "            elif 'Genre' in element.text :  \n",
    "                Genre = element.text[element.text.index(':') + 1 : ].strip(' ')\n",
    "            elif 'Series' in element.text :  \n",
    "                Franchise = element.text[element.text.index(':') + 1 : ].strip(' ')\n",
    "            elif 'Platform' in element.text :  \n",
    "                Platform = element.text[element.text.index(':') + 1 : ].strip(' ')\n",
    "            elif 'Initial release date' in element.text :  \n",
    "                Release_Date = element.text[element.text.index(':') + 1 : ].strip(' ')\n",
    "                \n",
    "    games.append([int(game_rank[index].text), game_name[index].text.strip('\\n'), game_year[index].text, Developer, Publisher, Genre, Franchise, Platform, Release_Date])"
   ]
  },
  {
   "cell_type": "markdown",
   "id": "c00ff47e-cb66-4aed-80a4-c1d44262af1f",
   "metadata": {},
   "source": [
    "The above block of code will take ***more time ( atmost 5 mins)***  because of sub-scraping and parsing. I managed to get infomation that is missing from the IGN website from Google"
   ]
  },
  {
   "cell_type": "code",
   "execution_count": null,
   "id": "1011be89-802c-403b-947a-9abaa533cbca",
   "metadata": {},
   "outputs": [],
   "source": [
    "#Creating a dataframe\n",
    "import pandas as pd\n",
    "df = pd.DataFrame(games, columns = [\"Rank\", \"Name\", \"Year\", \"Developer\", \"Publisher\", \"Genre\", \"Franchise\", \"Platform\", \"Release Date\"])\n",
    "df.set_index(\"Rank\", inplace = True)\n",
    "df.head(10)"
   ]
  },
  {
   "cell_type": "markdown",
   "id": "c412bcfe-9a9d-41bc-ade8-e5d6f080b75c",
   "metadata": {},
   "source": [
    "By using the above dataframe can perform basic analysis with respect to the features listed. This can be improved by further scraping to fill up the missing values. The shortcut is to ***using wikipedia*** which has all the infomation hidden or redily available.\n",
    "\n"
   ]
  },
  {
   "cell_type": "code",
   "execution_count": null,
   "id": "c45ac709-c552-4fbf-8743-da3b1f70ea51",
   "metadata": {},
   "outputs": [],
   "source": [
    "#Incase you are wondering \n",
    "df.loc[1:1, :] "
   ]
  },
  {
   "cell_type": "markdown",
   "id": "f9f05d64-f009-4289-996e-e160c5b1714f",
   "metadata": {},
   "source": [
    "Difficulties Faced: \n",
    "\n",
    "***Javascript scraping***: I tried to render the JS first before scraping so that I can avoid the Show Less or Show More events. But there seems to be a specific error with Jupiter Notebook that complicates the process. So I avoided that in this part. \n",
    "\n",
    "And, Google does not offer same peice of information for every game, this led to more missing values for older games (for which there was also no infomation in IGN)"
   ]
  }
 ],
 "metadata": {
  "kernelspec": {
   "display_name": "Python 3",
   "language": "python",
   "name": "python3"
  },
  "language_info": {
   "codemirror_mode": {
    "name": "ipython",
    "version": 3
   },
   "file_extension": ".py",
   "mimetype": "text/x-python",
   "name": "python",
   "nbconvert_exporter": "python",
   "pygments_lexer": "ipython3",
   "version": "3.8.10"
  }
 },
 "nbformat": 4,
 "nbformat_minor": 5
}

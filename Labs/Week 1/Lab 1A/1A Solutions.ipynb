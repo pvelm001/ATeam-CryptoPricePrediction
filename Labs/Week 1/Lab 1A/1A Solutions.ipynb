{
 "cells": [
  {
   "cell_type": "markdown",
   "metadata": {
    "id": "__1JBcfGnOHj"
   },
   "source": [
    "# The Distribution of First Digits\n",
    "\n",
    "In this lab, you will explore the distribution of first digits in real data. For example, the first digits of the numbers 52, 30.8, and 0.07 are 5, 3, and 7 respectively. In this lab, you will investigate the question: how frequently does each digit 1-9 appear as the first digit of the number?\n"
   ]
  },
  {
   "cell_type": "code",
   "execution_count": 406,
   "metadata": {},
   "outputs": [],
   "source": [
    "#Headers\n",
    "import pandas as pd\n",
    "import numpy as np\n",
    "%matplotlib inline"
   ]
  },
  {
   "cell_type": "markdown",
   "metadata": {},
   "source": [
    "We include the headers necessary for our operations"
   ]
  },
  {
   "cell_type": "code",
   "execution_count": 407,
   "metadata": {},
   "outputs": [],
   "source": [
    "dataframe = pd.read_csv('Dataset.csv')"
   ]
  },
  {
   "cell_type": "markdown",
   "metadata": {},
   "source": [
    "We import our dataset into a pandas dataframe as shown above"
   ]
  },
  {
   "cell_type": "markdown",
   "metadata": {
    "id": "iJ0is3PhnOHl"
   },
   "source": [
    "## Question 0\n",
    "\n",
    "Make a prediction. \n",
    "\n",
    "1. Approximately what percentage of the values do you think will have a _first_ digit of 1? What percentage of the values do you think will have a first digit of 9?\n",
    "2. Approximately what percentage of the values do you think will have a _last_ digit of 1? What percentage of the values do you think will have a last digit of 9?\n",
    "\n",
    "(Don't worry about being wrong. You will earn full credit for any justified answer.)"
   ]
  },
  {
   "cell_type": "markdown",
   "metadata": {
    "id": "D4Kxu2djnOHm"
   },
   "source": [
    "Assuming it follows a ***uniform distribution***, We can say the probability of occurance of digits 1-9 to be same, which is 11.11%\n",
    "\n",
    "1. 11% of values will be having first digit as 1 and 11% of values will be having the first digit as 9\n",
    "2. 10% of values will be having first digit as 1 and 10% of values will be having the first digit as 9\n",
    "\n",
    "We switched to 10 percent because 0 can occur as the last digit."
   ]
  },
  {
   "cell_type": "markdown",
   "metadata": {},
   "source": [
    "But let's check it out..."
   ]
  },
  {
   "cell_type": "markdown",
   "metadata": {
    "id": "Dyc5U7u7nOHn"
   },
   "source": [
    "## Question 1\n",
    "\n",
    "The [S&P 500](https://en.wikipedia.org/wiki/S%26P_500_Index) is a stock index based on the market capitalizations of large companies that are publicly traded on the NYSE or NASDAQ. The CSV file `sp500.csv` contains data from February 1, 2018 about the stocks that comprise the S&P 500. We will investigate the first digit distributions of the variables in this data set.\n",
    "\n",
    "Read in the S&P 500 data. What is the unit of observation in this data set? Is there a variable that is natural to use as the index? If so, set that variable to be the index. Once you are done, display the `DataFrame`."
   ]
  },
  {
   "cell_type": "code",
   "execution_count": 408,
   "metadata": {
    "id": "vX2M_vUAnOHr"
   },
   "outputs": [
    {
     "data": {
      "text/html": [
       "<div>\n",
       "<style scoped>\n",
       "    .dataframe tbody tr th:only-of-type {\n",
       "        vertical-align: middle;\n",
       "    }\n",
       "\n",
       "    .dataframe tbody tr th {\n",
       "        vertical-align: top;\n",
       "    }\n",
       "\n",
       "    .dataframe thead th {\n",
       "        text-align: right;\n",
       "    }\n",
       "</style>\n",
       "<table border=\"1\" class=\"dataframe\">\n",
       "  <thead>\n",
       "    <tr style=\"text-align: right;\">\n",
       "      <th></th>\n",
       "      <th>date</th>\n",
       "      <th>Name</th>\n",
       "      <th>open</th>\n",
       "      <th>close</th>\n",
       "      <th>volume</th>\n",
       "    </tr>\n",
       "  </thead>\n",
       "  <tbody>\n",
       "    <tr>\n",
       "      <th>0</th>\n",
       "      <td>2018-02-01</td>\n",
       "      <td>AAL</td>\n",
       "      <td>$54.00</td>\n",
       "      <td>$53.88</td>\n",
       "      <td>3623078</td>\n",
       "    </tr>\n",
       "    <tr>\n",
       "      <th>1</th>\n",
       "      <td>2018-02-01</td>\n",
       "      <td>AAPL</td>\n",
       "      <td>$167.16</td>\n",
       "      <td>$167.78</td>\n",
       "      <td>47230787</td>\n",
       "    </tr>\n",
       "    <tr>\n",
       "      <th>2</th>\n",
       "      <td>2018-02-01</td>\n",
       "      <td>AAP</td>\n",
       "      <td>$116.24</td>\n",
       "      <td>$117.29</td>\n",
       "      <td>760629</td>\n",
       "    </tr>\n",
       "    <tr>\n",
       "      <th>3</th>\n",
       "      <td>2018-02-01</td>\n",
       "      <td>ABBV</td>\n",
       "      <td>$112.24</td>\n",
       "      <td>$116.34</td>\n",
       "      <td>9943452</td>\n",
       "    </tr>\n",
       "    <tr>\n",
       "      <th>4</th>\n",
       "      <td>2018-02-01</td>\n",
       "      <td>ABC</td>\n",
       "      <td>$97.74</td>\n",
       "      <td>$99.29</td>\n",
       "      <td>2786798</td>\n",
       "    </tr>\n",
       "  </tbody>\n",
       "</table>\n",
       "</div>"
      ],
      "text/plain": [
       "         date  Name     open    close    volume\n",
       "0  2018-02-01   AAL   $54.00   $53.88   3623078\n",
       "1  2018-02-01  AAPL  $167.16  $167.78  47230787\n",
       "2  2018-02-01   AAP  $116.24  $117.29    760629\n",
       "3  2018-02-01  ABBV  $112.24  $116.34   9943452\n",
       "4  2018-02-01   ABC   $97.74   $99.29   2786798"
      ]
     },
     "execution_count": 408,
     "metadata": {},
     "output_type": "execute_result"
    }
   ],
   "source": [
    "#Checking the dataset\n",
    "dataframe.head()"
   ]
  },
  {
   "cell_type": "code",
   "execution_count": 409,
   "metadata": {},
   "outputs": [
    {
     "data": {
      "text/plain": [
       "date      object\n",
       "Name      object\n",
       "open      object\n",
       "close     object\n",
       "volume     int64\n",
       "dtype: object"
      ]
     },
     "execution_count": 409,
     "metadata": {},
     "output_type": "execute_result"
    }
   ],
   "source": [
    "#Checking the types\n",
    "dataframe.dtypes"
   ]
  },
  {
   "cell_type": "code",
   "execution_count": 410,
   "metadata": {},
   "outputs": [
    {
     "data": {
      "text/html": [
       "<div>\n",
       "<style scoped>\n",
       "    .dataframe tbody tr th:only-of-type {\n",
       "        vertical-align: middle;\n",
       "    }\n",
       "\n",
       "    .dataframe tbody tr th {\n",
       "        vertical-align: top;\n",
       "    }\n",
       "\n",
       "    .dataframe thead th {\n",
       "        text-align: right;\n",
       "    }\n",
       "</style>\n",
       "<table border=\"1\" class=\"dataframe\">\n",
       "  <thead>\n",
       "    <tr style=\"text-align: right;\">\n",
       "      <th></th>\n",
       "      <th>date</th>\n",
       "      <th>Name</th>\n",
       "      <th>open</th>\n",
       "      <th>close</th>\n",
       "      <th>volume</th>\n",
       "    </tr>\n",
       "  </thead>\n",
       "  <tbody>\n",
       "    <tr>\n",
       "      <th>count</th>\n",
       "      <td>505</td>\n",
       "      <td>505</td>\n",
       "      <td>505</td>\n",
       "      <td>505</td>\n",
       "      <td>505</td>\n",
       "    </tr>\n",
       "    <tr>\n",
       "      <th>unique</th>\n",
       "      <td>1</td>\n",
       "      <td>505</td>\n",
       "      <td>495</td>\n",
       "      <td>498</td>\n",
       "      <td>505</td>\n",
       "    </tr>\n",
       "    <tr>\n",
       "      <th>top</th>\n",
       "      <td>2018-02-01</td>\n",
       "      <td>PM</td>\n",
       "      <td>$45.50</td>\n",
       "      <td>$193.47</td>\n",
       "      <td>4079061</td>\n",
       "    </tr>\n",
       "    <tr>\n",
       "      <th>freq</th>\n",
       "      <td>505</td>\n",
       "      <td>1</td>\n",
       "      <td>2</td>\n",
       "      <td>2</td>\n",
       "      <td>1</td>\n",
       "    </tr>\n",
       "  </tbody>\n",
       "</table>\n",
       "</div>"
      ],
      "text/plain": [
       "              date Name    open    close   volume\n",
       "count          505  505     505      505      505\n",
       "unique           1  505     495      498      505\n",
       "top     2018-02-01   PM  $45.50  $193.47  4079061\n",
       "freq           505    1       2        2        1"
      ]
     },
     "execution_count": 410,
     "metadata": {},
     "output_type": "execute_result"
    }
   ],
   "source": [
    "#Checking the dataset\n",
    "dataframe['volume'] = dataframe['volume'].astype(str)\n",
    "dataframe.describe()"
   ]
  },
  {
   "cell_type": "markdown",
   "metadata": {},
   "source": [
    "We are having two options to chose as the index. They are Name and Volume, because they are having all unique values and using them to represent an instance will not cause any problems. I am going with Name because it makes the dataset more readable."
   ]
  },
  {
   "cell_type": "code",
   "execution_count": 411,
   "metadata": {},
   "outputs": [
    {
     "data": {
      "text/html": [
       "<div>\n",
       "<style scoped>\n",
       "    .dataframe tbody tr th:only-of-type {\n",
       "        vertical-align: middle;\n",
       "    }\n",
       "\n",
       "    .dataframe tbody tr th {\n",
       "        vertical-align: top;\n",
       "    }\n",
       "\n",
       "    .dataframe thead th {\n",
       "        text-align: right;\n",
       "    }\n",
       "</style>\n",
       "<table border=\"1\" class=\"dataframe\">\n",
       "  <thead>\n",
       "    <tr style=\"text-align: right;\">\n",
       "      <th></th>\n",
       "      <th>date</th>\n",
       "      <th>open</th>\n",
       "      <th>close</th>\n",
       "      <th>volume</th>\n",
       "    </tr>\n",
       "    <tr>\n",
       "      <th>Name</th>\n",
       "      <th></th>\n",
       "      <th></th>\n",
       "      <th></th>\n",
       "      <th></th>\n",
       "    </tr>\n",
       "  </thead>\n",
       "  <tbody>\n",
       "    <tr>\n",
       "      <th>AAL</th>\n",
       "      <td>2018-02-01</td>\n",
       "      <td>$54.00</td>\n",
       "      <td>$53.88</td>\n",
       "      <td>3623078</td>\n",
       "    </tr>\n",
       "    <tr>\n",
       "      <th>AAPL</th>\n",
       "      <td>2018-02-01</td>\n",
       "      <td>$167.16</td>\n",
       "      <td>$167.78</td>\n",
       "      <td>47230787</td>\n",
       "    </tr>\n",
       "    <tr>\n",
       "      <th>AAP</th>\n",
       "      <td>2018-02-01</td>\n",
       "      <td>$116.24</td>\n",
       "      <td>$117.29</td>\n",
       "      <td>760629</td>\n",
       "    </tr>\n",
       "    <tr>\n",
       "      <th>ABBV</th>\n",
       "      <td>2018-02-01</td>\n",
       "      <td>$112.24</td>\n",
       "      <td>$116.34</td>\n",
       "      <td>9943452</td>\n",
       "    </tr>\n",
       "    <tr>\n",
       "      <th>ABC</th>\n",
       "      <td>2018-02-01</td>\n",
       "      <td>$97.74</td>\n",
       "      <td>$99.29</td>\n",
       "      <td>2786798</td>\n",
       "    </tr>\n",
       "  </tbody>\n",
       "</table>\n",
       "</div>"
      ],
      "text/plain": [
       "            date     open    close    volume\n",
       "Name                                        \n",
       "AAL   2018-02-01   $54.00   $53.88   3623078\n",
       "AAPL  2018-02-01  $167.16  $167.78  47230787\n",
       "AAP   2018-02-01  $116.24  $117.29    760629\n",
       "ABBV  2018-02-01  $112.24  $116.34   9943452\n",
       "ABC   2018-02-01   $97.74   $99.29   2786798"
      ]
     },
     "execution_count": 411,
     "metadata": {},
     "output_type": "execute_result"
    }
   ],
   "source": [
    "#Setting the index\n",
    "dataframe.set_index(\"Name\", inplace = True)\n",
    "dataframe.head()"
   ]
  },
  {
   "cell_type": "markdown",
   "metadata": {},
   "source": [
    "We have processed the dataframe to have the Name as index, so it is sorted around it"
   ]
  },
  {
   "cell_type": "markdown",
   "metadata": {
    "id": "GKW3GDWYnOHz"
   },
   "source": [
    "## Question 2\n",
    "\n",
    "We will start by looking at the `volume` column. This variable tells us how many shares were traded on that date.\n",
    "\n",
    "Extract the first digit of every value in this column. (_Hint:_ First, turn the numbers into strings. Then, use the [text processing functionalities](https://pandas.pydata.org/pandas-docs/stable/text.html) of `pandas` to extract the first character of each string.) Make an appropriate visualization to display the distribution of the first digits. (_Hint:_ Think carefully about whether the variable you are plotting is quantitative or categorical.)\n",
    "\n",
    "How does this compare with what you predicted in Question 0?"
   ]
  },
  {
   "cell_type": "code",
   "execution_count": 412,
   "metadata": {
    "id": "MyTVgillnOH0"
   },
   "outputs": [
    {
     "data": {
      "text/html": [
       "<div>\n",
       "<style scoped>\n",
       "    .dataframe tbody tr th:only-of-type {\n",
       "        vertical-align: middle;\n",
       "    }\n",
       "\n",
       "    .dataframe tbody tr th {\n",
       "        vertical-align: top;\n",
       "    }\n",
       "\n",
       "    .dataframe thead th {\n",
       "        text-align: right;\n",
       "    }\n",
       "</style>\n",
       "<table border=\"1\" class=\"dataframe\">\n",
       "  <thead>\n",
       "    <tr style=\"text-align: right;\">\n",
       "      <th></th>\n",
       "      <th>date</th>\n",
       "      <th>open</th>\n",
       "      <th>close</th>\n",
       "      <th>volume</th>\n",
       "    </tr>\n",
       "    <tr>\n",
       "      <th>Name</th>\n",
       "      <th></th>\n",
       "      <th></th>\n",
       "      <th></th>\n",
       "      <th></th>\n",
       "    </tr>\n",
       "  </thead>\n",
       "  <tbody>\n",
       "    <tr>\n",
       "      <th>CXO</th>\n",
       "      <td>2018-02-01</td>\n",
       "      <td>$158.03</td>\n",
       "      <td>$159.26</td>\n",
       "      <td>1003247</td>\n",
       "    </tr>\n",
       "    <tr>\n",
       "      <th>FLR</th>\n",
       "      <td>2018-02-01</td>\n",
       "      <td>$60.43</td>\n",
       "      <td>$60.44</td>\n",
       "      <td>1004841</td>\n",
       "    </tr>\n",
       "    <tr>\n",
       "      <th>KSU</th>\n",
       "      <td>2018-02-01</td>\n",
       "      <td>$112.80</td>\n",
       "      <td>$112.87</td>\n",
       "      <td>1011156</td>\n",
       "    </tr>\n",
       "    <tr>\n",
       "      <th>HUM</th>\n",
       "      <td>2018-02-01</td>\n",
       "      <td>$281.79</td>\n",
       "      <td>$279.77</td>\n",
       "      <td>1013468</td>\n",
       "    </tr>\n",
       "    <tr>\n",
       "      <th>BWA</th>\n",
       "      <td>2018-02-01</td>\n",
       "      <td>$55.73</td>\n",
       "      <td>$56.39</td>\n",
       "      <td>1014613</td>\n",
       "    </tr>\n",
       "  </tbody>\n",
       "</table>\n",
       "</div>"
      ],
      "text/plain": [
       "            date     open    close   volume\n",
       "Name                                       \n",
       "CXO   2018-02-01  $158.03  $159.26  1003247\n",
       "FLR   2018-02-01   $60.43   $60.44  1004841\n",
       "KSU   2018-02-01  $112.80  $112.87  1011156\n",
       "HUM   2018-02-01  $281.79  $279.77  1013468\n",
       "BWA   2018-02-01   $55.73   $56.39  1014613"
      ]
     },
     "execution_count": 412,
     "metadata": {},
     "output_type": "execute_result"
    }
   ],
   "source": [
    "#Preparing our target column\n",
    "target = 'volume'\n",
    "dataframe.sort_values(target, inplace = True)\n",
    "dataframe.head()"
   ]
  },
  {
   "cell_type": "code",
   "execution_count": 413,
   "metadata": {},
   "outputs": [
    {
     "data": {
      "text/html": [
       "<div>\n",
       "<style scoped>\n",
       "    .dataframe tbody tr th:only-of-type {\n",
       "        vertical-align: middle;\n",
       "    }\n",
       "\n",
       "    .dataframe tbody tr th {\n",
       "        vertical-align: top;\n",
       "    }\n",
       "\n",
       "    .dataframe thead th {\n",
       "        text-align: right;\n",
       "    }\n",
       "</style>\n",
       "<table border=\"1\" class=\"dataframe\">\n",
       "  <thead>\n",
       "    <tr style=\"text-align: right;\">\n",
       "      <th></th>\n",
       "      <th>date</th>\n",
       "      <th>open</th>\n",
       "      <th>close</th>\n",
       "      <th>volume</th>\n",
       "    </tr>\n",
       "    <tr>\n",
       "      <th>Name</th>\n",
       "      <th></th>\n",
       "      <th></th>\n",
       "      <th></th>\n",
       "      <th></th>\n",
       "    </tr>\n",
       "  </thead>\n",
       "  <tbody>\n",
       "    <tr>\n",
       "      <th>CXO</th>\n",
       "      <td>2018-02-01</td>\n",
       "      <td>$158.03</td>\n",
       "      <td>$159.26</td>\n",
       "      <td>1003247</td>\n",
       "    </tr>\n",
       "    <tr>\n",
       "      <th>FLR</th>\n",
       "      <td>2018-02-01</td>\n",
       "      <td>$60.43</td>\n",
       "      <td>$60.44</td>\n",
       "      <td>1004841</td>\n",
       "    </tr>\n",
       "    <tr>\n",
       "      <th>KSU</th>\n",
       "      <td>2018-02-01</td>\n",
       "      <td>$112.80</td>\n",
       "      <td>$112.87</td>\n",
       "      <td>1011156</td>\n",
       "    </tr>\n",
       "    <tr>\n",
       "      <th>HUM</th>\n",
       "      <td>2018-02-01</td>\n",
       "      <td>$281.79</td>\n",
       "      <td>$279.77</td>\n",
       "      <td>1013468</td>\n",
       "    </tr>\n",
       "    <tr>\n",
       "      <th>BWA</th>\n",
       "      <td>2018-02-01</td>\n",
       "      <td>$55.73</td>\n",
       "      <td>$56.39</td>\n",
       "      <td>1014613</td>\n",
       "    </tr>\n",
       "  </tbody>\n",
       "</table>\n",
       "</div>"
      ],
      "text/plain": [
       "            date     open    close   volume\n",
       "Name                                       \n",
       "CXO   2018-02-01  $158.03  $159.26  1003247\n",
       "FLR   2018-02-01   $60.43   $60.44  1004841\n",
       "KSU   2018-02-01  $112.80  $112.87  1011156\n",
       "HUM   2018-02-01  $281.79  $279.77  1013468\n",
       "BWA   2018-02-01   $55.73   $56.39  1014613"
      ]
     },
     "execution_count": 413,
     "metadata": {},
     "output_type": "execute_result"
    }
   ],
   "source": [
    "#Making a copy of dataset\n",
    "first_vol_df = dataframe.copy(deep = True)\n",
    "first_vol_df.head()"
   ]
  },
  {
   "cell_type": "code",
   "execution_count": 414,
   "metadata": {},
   "outputs": [
    {
     "data": {
      "text/html": [
       "<div>\n",
       "<style scoped>\n",
       "    .dataframe tbody tr th:only-of-type {\n",
       "        vertical-align: middle;\n",
       "    }\n",
       "\n",
       "    .dataframe tbody tr th {\n",
       "        vertical-align: top;\n",
       "    }\n",
       "\n",
       "    .dataframe thead th {\n",
       "        text-align: right;\n",
       "    }\n",
       "</style>\n",
       "<table border=\"1\" class=\"dataframe\">\n",
       "  <thead>\n",
       "    <tr style=\"text-align: right;\">\n",
       "      <th></th>\n",
       "      <th>date</th>\n",
       "      <th>open</th>\n",
       "      <th>close</th>\n",
       "      <th>volume</th>\n",
       "    </tr>\n",
       "    <tr>\n",
       "      <th>Name</th>\n",
       "      <th></th>\n",
       "      <th></th>\n",
       "      <th></th>\n",
       "      <th></th>\n",
       "    </tr>\n",
       "  </thead>\n",
       "  <tbody>\n",
       "    <tr>\n",
       "      <th>CXO</th>\n",
       "      <td>2018-02-01</td>\n",
       "      <td>$158.03</td>\n",
       "      <td>$159.26</td>\n",
       "      <td>1</td>\n",
       "    </tr>\n",
       "    <tr>\n",
       "      <th>FLR</th>\n",
       "      <td>2018-02-01</td>\n",
       "      <td>$60.43</td>\n",
       "      <td>$60.44</td>\n",
       "      <td>1</td>\n",
       "    </tr>\n",
       "    <tr>\n",
       "      <th>KSU</th>\n",
       "      <td>2018-02-01</td>\n",
       "      <td>$112.80</td>\n",
       "      <td>$112.87</td>\n",
       "      <td>1</td>\n",
       "    </tr>\n",
       "    <tr>\n",
       "      <th>HUM</th>\n",
       "      <td>2018-02-01</td>\n",
       "      <td>$281.79</td>\n",
       "      <td>$279.77</td>\n",
       "      <td>1</td>\n",
       "    </tr>\n",
       "    <tr>\n",
       "      <th>BWA</th>\n",
       "      <td>2018-02-01</td>\n",
       "      <td>$55.73</td>\n",
       "      <td>$56.39</td>\n",
       "      <td>1</td>\n",
       "    </tr>\n",
       "  </tbody>\n",
       "</table>\n",
       "</div>"
      ],
      "text/plain": [
       "            date     open    close volume\n",
       "Name                                     \n",
       "CXO   2018-02-01  $158.03  $159.26      1\n",
       "FLR   2018-02-01   $60.43   $60.44      1\n",
       "KSU   2018-02-01  $112.80  $112.87      1\n",
       "HUM   2018-02-01  $281.79  $279.77      1\n",
       "BWA   2018-02-01   $55.73   $56.39      1"
      ]
     },
     "execution_count": 414,
     "metadata": {},
     "output_type": "execute_result"
    }
   ],
   "source": [
    "#Getting the first digit of volume\n",
    "first_vol_df[target] = first_vol_df[target].str[0]\n",
    "first_vol_df.head()"
   ]
  },
  {
   "cell_type": "code",
   "execution_count": 415,
   "metadata": {},
   "outputs": [
    {
     "data": {
      "text/plain": [
       "1    165\n",
       "2     93\n",
       "3     59\n",
       "4     43\n",
       "5     41\n",
       "6     36\n",
       "7     25\n",
       "8     22\n",
       "9     21\n",
       "Name: volume, dtype: int64"
      ]
     },
     "execution_count": 415,
     "metadata": {},
     "output_type": "execute_result"
    }
   ],
   "source": [
    "#Finding the distribution of digit\n",
    "first_vol_df[target] = first_vol_df[target].astype(int)\n",
    "first_vol_df[target].value_counts()"
   ]
  },
  {
   "cell_type": "code",
   "execution_count": 416,
   "metadata": {},
   "outputs": [
    {
     "data": {
      "text/plain": [
       "Text(0, 0.5, 'Frequency')"
      ]
     },
     "execution_count": 416,
     "metadata": {},
     "output_type": "execute_result"
    },
    {
     "data": {
      "image/png": "[encoded data removed]",
      "text/plain": [
       "<Figure size 720x360 with 1 Axes>"
      ]
     },
     "metadata": {
      "needs_background": "light"
     },
     "output_type": "display_data"
    }
   ],
   "source": [
    "#Plotting the information\n",
    "ax = first_vol_df[target].plot(kind = 'hist',\n",
    "                           bins = 9, \n",
    "                           grid = True,\n",
    "                           density = True,\n",
    "                           legend = True,\n",
    "                           figsize = (10, 5),\n",
    "                           title = 'Digits Distribution (%)')\n",
    "ax.set_xticks([0, 1, 2, 3, 4, 5, 6, 7, 8 ,9])\n",
    "ax.set_xlabel('Digits')\n",
    "ax.set_ylabel('Frequency')"
   ]
  },
  {
   "cell_type": "markdown",
   "metadata": {
    "id": "Gg3msmSZnOIE"
   },
   "source": [
    "From the above graph we can observe that, The assumption is wrong. We have around 35% of volume values that starts with a 1"
   ]
  },
  {
   "cell_type": "markdown",
   "metadata": {
    "id": "fw4kZAVmnOIF"
   },
   "source": [
    "## Question 3\n",
    "\n",
    "Now, repeat Question 2, but for the distribution of _last_ digits. Again, make an appropriate visualization and compare with your prediction in Question 0."
   ]
  },
  {
   "cell_type": "code",
   "execution_count": 417,
   "metadata": {
    "id": "oovgcTUFnOIL"
   },
   "outputs": [
    {
     "data": {
      "text/html": [
       "<div>\n",
       "<style scoped>\n",
       "    .dataframe tbody tr th:only-of-type {\n",
       "        vertical-align: middle;\n",
       "    }\n",
       "\n",
       "    .dataframe tbody tr th {\n",
       "        vertical-align: top;\n",
       "    }\n",
       "\n",
       "    .dataframe thead th {\n",
       "        text-align: right;\n",
       "    }\n",
       "</style>\n",
       "<table border=\"1\" class=\"dataframe\">\n",
       "  <thead>\n",
       "    <tr style=\"text-align: right;\">\n",
       "      <th></th>\n",
       "      <th>date</th>\n",
       "      <th>open</th>\n",
       "      <th>close</th>\n",
       "      <th>volume</th>\n",
       "    </tr>\n",
       "    <tr>\n",
       "      <th>Name</th>\n",
       "      <th></th>\n",
       "      <th></th>\n",
       "      <th></th>\n",
       "      <th></th>\n",
       "    </tr>\n",
       "  </thead>\n",
       "  <tbody>\n",
       "    <tr>\n",
       "      <th>CXO</th>\n",
       "      <td>2018-02-01</td>\n",
       "      <td>$158.03</td>\n",
       "      <td>$159.26</td>\n",
       "      <td>1003247</td>\n",
       "    </tr>\n",
       "    <tr>\n",
       "      <th>FLR</th>\n",
       "      <td>2018-02-01</td>\n",
       "      <td>$60.43</td>\n",
       "      <td>$60.44</td>\n",
       "      <td>1004841</td>\n",
       "    </tr>\n",
       "    <tr>\n",
       "      <th>KSU</th>\n",
       "      <td>2018-02-01</td>\n",
       "      <td>$112.80</td>\n",
       "      <td>$112.87</td>\n",
       "      <td>1011156</td>\n",
       "    </tr>\n",
       "    <tr>\n",
       "      <th>HUM</th>\n",
       "      <td>2018-02-01</td>\n",
       "      <td>$281.79</td>\n",
       "      <td>$279.77</td>\n",
       "      <td>1013468</td>\n",
       "    </tr>\n",
       "    <tr>\n",
       "      <th>BWA</th>\n",
       "      <td>2018-02-01</td>\n",
       "      <td>$55.73</td>\n",
       "      <td>$56.39</td>\n",
       "      <td>1014613</td>\n",
       "    </tr>\n",
       "  </tbody>\n",
       "</table>\n",
       "</div>"
      ],
      "text/plain": [
       "            date     open    close   volume\n",
       "Name                                       \n",
       "CXO   2018-02-01  $158.03  $159.26  1003247\n",
       "FLR   2018-02-01   $60.43   $60.44  1004841\n",
       "KSU   2018-02-01  $112.80  $112.87  1011156\n",
       "HUM   2018-02-01  $281.79  $279.77  1013468\n",
       "BWA   2018-02-01   $55.73   $56.39  1014613"
      ]
     },
     "execution_count": 417,
     "metadata": {},
     "output_type": "execute_result"
    }
   ],
   "source": [
    "#Making a copy of dataset\n",
    "last_vol_df = dataframe.copy(deep = True)\n",
    "last_vol_df.head()"
   ]
  },
  {
   "cell_type": "code",
   "execution_count": 418,
   "metadata": {},
   "outputs": [
    {
     "data": {
      "text/html": [
       "<div>\n",
       "<style scoped>\n",
       "    .dataframe tbody tr th:only-of-type {\n",
       "        vertical-align: middle;\n",
       "    }\n",
       "\n",
       "    .dataframe tbody tr th {\n",
       "        vertical-align: top;\n",
       "    }\n",
       "\n",
       "    .dataframe thead th {\n",
       "        text-align: right;\n",
       "    }\n",
       "</style>\n",
       "<table border=\"1\" class=\"dataframe\">\n",
       "  <thead>\n",
       "    <tr style=\"text-align: right;\">\n",
       "      <th></th>\n",
       "      <th>date</th>\n",
       "      <th>open</th>\n",
       "      <th>close</th>\n",
       "      <th>volume</th>\n",
       "    </tr>\n",
       "    <tr>\n",
       "      <th>Name</th>\n",
       "      <th></th>\n",
       "      <th></th>\n",
       "      <th></th>\n",
       "      <th></th>\n",
       "    </tr>\n",
       "  </thead>\n",
       "  <tbody>\n",
       "    <tr>\n",
       "      <th>CXO</th>\n",
       "      <td>2018-02-01</td>\n",
       "      <td>$158.03</td>\n",
       "      <td>$159.26</td>\n",
       "      <td>7</td>\n",
       "    </tr>\n",
       "    <tr>\n",
       "      <th>FLR</th>\n",
       "      <td>2018-02-01</td>\n",
       "      <td>$60.43</td>\n",
       "      <td>$60.44</td>\n",
       "      <td>1</td>\n",
       "    </tr>\n",
       "    <tr>\n",
       "      <th>KSU</th>\n",
       "      <td>2018-02-01</td>\n",
       "      <td>$112.80</td>\n",
       "      <td>$112.87</td>\n",
       "      <td>6</td>\n",
       "    </tr>\n",
       "    <tr>\n",
       "      <th>HUM</th>\n",
       "      <td>2018-02-01</td>\n",
       "      <td>$281.79</td>\n",
       "      <td>$279.77</td>\n",
       "      <td>8</td>\n",
       "    </tr>\n",
       "    <tr>\n",
       "      <th>BWA</th>\n",
       "      <td>2018-02-01</td>\n",
       "      <td>$55.73</td>\n",
       "      <td>$56.39</td>\n",
       "      <td>3</td>\n",
       "    </tr>\n",
       "  </tbody>\n",
       "</table>\n",
       "</div>"
      ],
      "text/plain": [
       "            date     open    close volume\n",
       "Name                                     \n",
       "CXO   2018-02-01  $158.03  $159.26      7\n",
       "FLR   2018-02-01   $60.43   $60.44      1\n",
       "KSU   2018-02-01  $112.80  $112.87      6\n",
       "HUM   2018-02-01  $281.79  $279.77      8\n",
       "BWA   2018-02-01   $55.73   $56.39      3"
      ]
     },
     "execution_count": 418,
     "metadata": {},
     "output_type": "execute_result"
    }
   ],
   "source": [
    "#Getting the last digit of volume\n",
    "last_vol_df[target] = last_vol_df[target].str[-1]\n",
    "last_vol_df.head()"
   ]
  },
  {
   "cell_type": "code",
   "execution_count": 419,
   "metadata": {},
   "outputs": [
    {
     "data": {
      "text/plain": [
       "2    56\n",
       "8    56\n",
       "1    53\n",
       "9    53\n",
       "0    52\n",
       "7    52\n",
       "6    51\n",
       "3    48\n",
       "5    44\n",
       "4    40\n",
       "Name: volume, dtype: int64"
      ]
     },
     "execution_count": 419,
     "metadata": {},
     "output_type": "execute_result"
    }
   ],
   "source": [
    "#Finding the distribution of digit\n",
    "last_vol_df[target] = last_vol_df[target].astype(int)\n",
    "last_vol_df[target].value_counts()"
   ]
  },
  {
   "cell_type": "code",
   "execution_count": 420,
   "metadata": {},
   "outputs": [
    {
     "data": {
      "text/plain": [
       "Text(0, 0.5, 'Frequency')"
      ]
     },
     "execution_count": 420,
     "metadata": {},
     "output_type": "execute_result"
    },
    {
     "data": {
      "image/png": "[encoded data removed]",
      "text/plain": [
       "<Figure size 720x360 with 1 Axes>"
      ]
     },
     "metadata": {
      "needs_background": "light"
     },
     "output_type": "display_data"
    }
   ],
   "source": [
    "#Plotting the information\n",
    "ax = last_vol_df[target].plot(kind = 'hist',\n",
    "                           bins = 9, \n",
    "                           grid = True,\n",
    "                           density = True,\n",
    "                           legend = True,\n",
    "                           figsize = (10, 5),\n",
    "                           title = 'Digits Distribution (%)')\n",
    "ax.set_xticks([0, 1, 2, 3, 4, 5, 6, 7, 8 ,9])\n",
    "ax.set_xlabel('Digits')\n",
    "ax.set_ylabel('Frequency')"
   ]
  },
  {
   "cell_type": "markdown",
   "metadata": {},
   "source": [
    "From the above graph we can observe that, The assumption is kinda correct. We have around 11% of volume values that ends with a 1. However, it does not follow a uniform distribution because the occurance of digit 9 is more than the rest."
   ]
  },
  {
   "cell_type": "markdown",
   "metadata": {
    "id": "JSJYFTMAnOIZ"
   },
   "source": [
    "## Question 4\n",
    "\n",
    "Maybe the `volume` column was just a fluke. Let's see if the first digit distribution holds up when we look at a very different variable: the closing price of the stock. Make a visualization of the first digit distribution of the closing price (the `close` column of the `DataFrame`). Comment on what you see.\n",
    "\n",
    "(_Hint:_ What type did `pandas` infer this variable as and why? You will have to first clean the values using the [text processing functionalities](https://pandas.pydata.org/pandas-docs/stable/text.html) of `pandas` and then convert this variable to a quantitative variable.)"
   ]
  },
  {
   "cell_type": "code",
   "execution_count": 421,
   "metadata": {
    "id": "8Xvx4HyhnOIa"
   },
   "outputs": [
    {
     "data": {
      "text/html": [
       "<div>\n",
       "<style scoped>\n",
       "    .dataframe tbody tr th:only-of-type {\n",
       "        vertical-align: middle;\n",
       "    }\n",
       "\n",
       "    .dataframe tbody tr th {\n",
       "        vertical-align: top;\n",
       "    }\n",
       "\n",
       "    .dataframe thead th {\n",
       "        text-align: right;\n",
       "    }\n",
       "</style>\n",
       "<table border=\"1\" class=\"dataframe\">\n",
       "  <thead>\n",
       "    <tr style=\"text-align: right;\">\n",
       "      <th></th>\n",
       "      <th>date</th>\n",
       "      <th>open</th>\n",
       "      <th>close</th>\n",
       "      <th>volume</th>\n",
       "    </tr>\n",
       "    <tr>\n",
       "      <th>Name</th>\n",
       "      <th></th>\n",
       "      <th></th>\n",
       "      <th></th>\n",
       "      <th></th>\n",
       "    </tr>\n",
       "  </thead>\n",
       "  <tbody>\n",
       "    <tr>\n",
       "      <th>CXO</th>\n",
       "      <td>2018-02-01</td>\n",
       "      <td>$158.03</td>\n",
       "      <td>$159.26</td>\n",
       "      <td>1003247</td>\n",
       "    </tr>\n",
       "    <tr>\n",
       "      <th>FLR</th>\n",
       "      <td>2018-02-01</td>\n",
       "      <td>$60.43</td>\n",
       "      <td>$60.44</td>\n",
       "      <td>1004841</td>\n",
       "    </tr>\n",
       "    <tr>\n",
       "      <th>KSU</th>\n",
       "      <td>2018-02-01</td>\n",
       "      <td>$112.80</td>\n",
       "      <td>$112.87</td>\n",
       "      <td>1011156</td>\n",
       "    </tr>\n",
       "    <tr>\n",
       "      <th>HUM</th>\n",
       "      <td>2018-02-01</td>\n",
       "      <td>$281.79</td>\n",
       "      <td>$279.77</td>\n",
       "      <td>1013468</td>\n",
       "    </tr>\n",
       "    <tr>\n",
       "      <th>BWA</th>\n",
       "      <td>2018-02-01</td>\n",
       "      <td>$55.73</td>\n",
       "      <td>$56.39</td>\n",
       "      <td>1014613</td>\n",
       "    </tr>\n",
       "  </tbody>\n",
       "</table>\n",
       "</div>"
      ],
      "text/plain": [
       "            date     open    close   volume\n",
       "Name                                       \n",
       "CXO   2018-02-01  $158.03  $159.26  1003247\n",
       "FLR   2018-02-01   $60.43   $60.44  1004841\n",
       "KSU   2018-02-01  $112.80  $112.87  1011156\n",
       "HUM   2018-02-01  $281.79  $279.77  1013468\n",
       "BWA   2018-02-01   $55.73   $56.39  1014613"
      ]
     },
     "execution_count": 421,
     "metadata": {},
     "output_type": "execute_result"
    }
   ],
   "source": [
    "#Making a copy of dataset\n",
    "first_close_df = dataframe.copy(deep = True)\n",
    "first_close_df.head()"
   ]
  },
  {
   "cell_type": "code",
   "execution_count": 422,
   "metadata": {},
   "outputs": [
    {
     "data": {
      "text/html": [
       "<div>\n",
       "<style scoped>\n",
       "    .dataframe tbody tr th:only-of-type {\n",
       "        vertical-align: middle;\n",
       "    }\n",
       "\n",
       "    .dataframe tbody tr th {\n",
       "        vertical-align: top;\n",
       "    }\n",
       "\n",
       "    .dataframe thead th {\n",
       "        text-align: right;\n",
       "    }\n",
       "</style>\n",
       "<table border=\"1\" class=\"dataframe\">\n",
       "  <thead>\n",
       "    <tr style=\"text-align: right;\">\n",
       "      <th></th>\n",
       "      <th>date</th>\n",
       "      <th>open</th>\n",
       "      <th>close</th>\n",
       "      <th>volume</th>\n",
       "    </tr>\n",
       "    <tr>\n",
       "      <th>Name</th>\n",
       "      <th></th>\n",
       "      <th></th>\n",
       "      <th></th>\n",
       "      <th></th>\n",
       "    </tr>\n",
       "  </thead>\n",
       "  <tbody>\n",
       "    <tr>\n",
       "      <th>GOOG</th>\n",
       "      <td>2018-02-01</td>\n",
       "      <td>$1,162.61</td>\n",
       "      <td>$1,167.70</td>\n",
       "      <td>2412114</td>\n",
       "    </tr>\n",
       "    <tr>\n",
       "      <th>GOOGL</th>\n",
       "      <td>2018-02-01</td>\n",
       "      <td>$1,175.99</td>\n",
       "      <td>$1,181.59</td>\n",
       "      <td>3675709</td>\n",
       "    </tr>\n",
       "    <tr>\n",
       "      <th>AMZN</th>\n",
       "      <td>2018-02-01</td>\n",
       "      <td>$1,445.00</td>\n",
       "      <td>$1,390.00</td>\n",
       "      <td>9113808</td>\n",
       "    </tr>\n",
       "    <tr>\n",
       "      <th>PCLN</th>\n",
       "      <td>2018-02-01</td>\n",
       "      <td>$1,903.99</td>\n",
       "      <td>$1,903.69</td>\n",
       "      <td>360015</td>\n",
       "    </tr>\n",
       "    <tr>\n",
       "      <th>F</th>\n",
       "      <td>2018-02-01</td>\n",
       "      <td>$10.95</td>\n",
       "      <td>$10.92</td>\n",
       "      <td>41352192</td>\n",
       "    </tr>\n",
       "  </tbody>\n",
       "</table>\n",
       "</div>"
      ],
      "text/plain": [
       "             date       open      close    volume\n",
       "Name                                             \n",
       "GOOG   2018-02-01  $1,162.61  $1,167.70   2412114\n",
       "GOOGL  2018-02-01  $1,175.99  $1,181.59   3675709\n",
       "AMZN   2018-02-01  $1,445.00  $1,390.00   9113808\n",
       "PCLN   2018-02-01  $1,903.99  $1,903.69    360015\n",
       "F      2018-02-01     $10.95     $10.92  41352192"
      ]
     },
     "execution_count": 422,
     "metadata": {},
     "output_type": "execute_result"
    }
   ],
   "source": [
    "#Preparing our target column\n",
    "target = 'close'\n",
    "first_close_df.sort_values(target, inplace = True)\n",
    "first_close_df.head()"
   ]
  },
  {
   "cell_type": "code",
   "execution_count": 423,
   "metadata": {},
   "outputs": [
    {
     "data": {
      "text/html": [
       "<div>\n",
       "<style scoped>\n",
       "    .dataframe tbody tr th:only-of-type {\n",
       "        vertical-align: middle;\n",
       "    }\n",
       "\n",
       "    .dataframe tbody tr th {\n",
       "        vertical-align: top;\n",
       "    }\n",
       "\n",
       "    .dataframe thead th {\n",
       "        text-align: right;\n",
       "    }\n",
       "</style>\n",
       "<table border=\"1\" class=\"dataframe\">\n",
       "  <thead>\n",
       "    <tr style=\"text-align: right;\">\n",
       "      <th></th>\n",
       "      <th>date</th>\n",
       "      <th>open</th>\n",
       "      <th>close</th>\n",
       "      <th>volume</th>\n",
       "    </tr>\n",
       "    <tr>\n",
       "      <th>Name</th>\n",
       "      <th></th>\n",
       "      <th></th>\n",
       "      <th></th>\n",
       "      <th></th>\n",
       "    </tr>\n",
       "  </thead>\n",
       "  <tbody>\n",
       "    <tr>\n",
       "      <th>GOOG</th>\n",
       "      <td>2018-02-01</td>\n",
       "      <td>$1,162.61</td>\n",
       "      <td>1</td>\n",
       "      <td>2412114</td>\n",
       "    </tr>\n",
       "    <tr>\n",
       "      <th>GOOGL</th>\n",
       "      <td>2018-02-01</td>\n",
       "      <td>$1,175.99</td>\n",
       "      <td>1</td>\n",
       "      <td>3675709</td>\n",
       "    </tr>\n",
       "    <tr>\n",
       "      <th>AMZN</th>\n",
       "      <td>2018-02-01</td>\n",
       "      <td>$1,445.00</td>\n",
       "      <td>1</td>\n",
       "      <td>9113808</td>\n",
       "    </tr>\n",
       "    <tr>\n",
       "      <th>PCLN</th>\n",
       "      <td>2018-02-01</td>\n",
       "      <td>$1,903.99</td>\n",
       "      <td>1</td>\n",
       "      <td>360015</td>\n",
       "    </tr>\n",
       "    <tr>\n",
       "      <th>F</th>\n",
       "      <td>2018-02-01</td>\n",
       "      <td>$10.95</td>\n",
       "      <td>1</td>\n",
       "      <td>41352192</td>\n",
       "    </tr>\n",
       "  </tbody>\n",
       "</table>\n",
       "</div>"
      ],
      "text/plain": [
       "             date       open close    volume\n",
       "Name                                        \n",
       "GOOG   2018-02-01  $1,162.61     1   2412114\n",
       "GOOGL  2018-02-01  $1,175.99     1   3675709\n",
       "AMZN   2018-02-01  $1,445.00     1   9113808\n",
       "PCLN   2018-02-01  $1,903.99     1    360015\n",
       "F      2018-02-01     $10.95     1  41352192"
      ]
     },
     "execution_count": 423,
     "metadata": {},
     "output_type": "execute_result"
    }
   ],
   "source": [
    "#Getting the first digit of close\n",
    "first_close_df[target] = first_close_df[target].str[1]\n",
    "first_close_df.head()"
   ]
  },
  {
   "cell_type": "code",
   "execution_count": 424,
   "metadata": {},
   "outputs": [
    {
     "data": {
      "text/plain": [
       "1    171\n",
       "2     55\n",
       "3     52\n",
       "6     48\n",
       "4     43\n",
       "7     43\n",
       "5     39\n",
       "8     28\n",
       "9     26\n",
       "Name: close, dtype: int64"
      ]
     },
     "execution_count": 424,
     "metadata": {},
     "output_type": "execute_result"
    }
   ],
   "source": [
    "#Finding the distribution of digit\n",
    "first_close_df[target] = first_close_df[target].astype(int)\n",
    "first_close_df[target].value_counts()"
   ]
  },
  {
   "cell_type": "code",
   "execution_count": 425,
   "metadata": {},
   "outputs": [
    {
     "data": {
      "text/plain": [
       "Text(0, 0.5, 'Frequency')"
      ]
     },
     "execution_count": 425,
     "metadata": {},
     "output_type": "execute_result"
    },
    {
     "data": {
      "image/png": "[encoded data removed]",
      "text/plain": [
       "<Figure size 720x360 with 1 Axes>"
      ]
     },
     "metadata": {
      "needs_background": "light"
     },
     "output_type": "display_data"
    }
   ],
   "source": [
    "#Plotting the information\n",
    "ax = first_close_df[target].plot(kind = 'hist',\n",
    "                                 bins = 9, \n",
    "                                 grid = True,\n",
    "                                 density = True,\n",
    "                                 legend = True,\n",
    "                                 figsize = (10, 5),\n",
    "                                 title = 'Digits Distribution (%)')\n",
    "ax.set_xticks([0, 1, 2, 3, 4, 5, 6, 7, 8 ,9])\n",
    "ax.set_xlabel('Digits')\n",
    "ax.set_ylabel('Frequency')"
   ]
  },
  {
   "cell_type": "markdown",
   "metadata": {},
   "source": [
    "We can see that close feature also follows the same distribution as the volume. But this is ***not a casual thing***. I don't think they are depandant on each other. "
   ]
  },
  {
   "cell_type": "markdown",
   "metadata": {
    "id": "N6klhgAUnOIk"
   },
   "source": [
    "## Submission Instructions\n",
    "\n",
    "Once you are finished, follow these steps:\n",
    "\n",
    "1. Restart the kernel and re-run this notebook from beginning to end by going to `Kernel > Restart Kernel and Run All Cells`.\n",
    "2. If this process stops halfway through, that means there was an error. Correct the error and repeat Step 1 until the notebook runs from beginning to end.\n",
    "3. Double check that there is a number next to each code cell and that these numbers are in order.\n",
    "\n",
    "Then, submit your lab as follows:\n",
    "\n",
    "1. Upload your .ipyn Notebook to Canvas. \n",
    "4. Have the TA check your lab to obtain credit. "
   ]
  }
 ],
 "metadata": {
  "colab": {
   "collapsed_sections": [],
   "name": "1A. Distribution of First Digits.ipynb",
   "provenance": []
  },
  "kernelspec": {
   "display_name": "Python 3",
   "language": "python",
   "name": "python3"
  },
  "language_info": {
   "codemirror_mode": {
    "name": "ipython",
    "version": 3
   },
   "file_extension": ".py",
   "mimetype": "text/x-python",
   "name": "python",
   "nbconvert_exporter": "python",
   "pygments_lexer": "ipython3",
   "version": "3.8.10"
  }
 },
 "nbformat": 4,
 "nbformat_minor": 4
}

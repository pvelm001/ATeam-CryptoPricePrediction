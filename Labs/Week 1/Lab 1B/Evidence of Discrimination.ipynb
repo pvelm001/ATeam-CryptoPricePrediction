{
 "cells": [
  {
   "cell_type": "markdown",
   "metadata": {
    "id": "3GRr9ej57rEW"
   },
   "source": [
    "# Evidence of Discrimination?\n",
    "\n",
    "The Department of Developmental Services (DDS) in California is responsible for allocating funds to support over 250,000 developmentally-disabled residents. The data set ca_dds_expenditures.csv` contains data about 1,000 of these residents. The data comes from a discrimination lawsuit which alleged that California's Department of Developmental Services (DDS) privileged white (non-Hispanic) residents over Hispanic residents in allocating funds. We will focus on comparing the allocation of funds (i.e., expenditures) for these two ethnicities only, although there are other ethnicities in this data set.\n",
    "\n",
    "There are 6 variables in this data set:\n",
    "\n",
    "- Id:  5-digit, unique identification code for each consumer (similar to a social security number and used for identification purposes)  \n",
    "- Age Cohort:  Binned age variable represented as six age cohorts (0-5, 6-12, 13-17, 18-21, 22-50, and 51+)\n",
    "- Age:  Unbinned age variable\n",
    "- Gender:  Male or Female\n",
    "- Expenditures:  Dollar amount of annual expenditures spent on each consumer\n",
    "- Ethnicity:  Eight ethnic groups (American Indian, Asian, Black, Hispanic, Multi-race, Native Hawaiian, Other, and White non-Hispanic)"
   ]
  },
  {
   "cell_type": "code",
   "execution_count": 1,
   "metadata": {},
   "outputs": [],
   "source": [
    "#Including the headers\n",
    "from numpy import * # everything \n",
    "import pandas as pd \n",
    "%matplotlib inline"
   ]
  },
  {
   "cell_type": "code",
   "execution_count": 2,
   "metadata": {},
   "outputs": [],
   "source": [
    "#Reading the dataset\n",
    "df = pd.read_csv('Evidence Dataset.csv', sep=',', error_bad_lines=False)"
   ]
  },
  {
   "cell_type": "code",
   "execution_count": 3,
   "metadata": {},
   "outputs": [
    {
     "data": {
      "text/html": [
       "<div>\n",
       "<style scoped>\n",
       "    .dataframe tbody tr th:only-of-type {\n",
       "        vertical-align: middle;\n",
       "    }\n",
       "\n",
       "    .dataframe tbody tr th {\n",
       "        vertical-align: top;\n",
       "    }\n",
       "\n",
       "    .dataframe thead th {\n",
       "        text-align: right;\n",
       "    }\n",
       "</style>\n",
       "<table border=\"1\" class=\"dataframe\">\n",
       "  <thead>\n",
       "    <tr style=\"text-align: right;\">\n",
       "      <th></th>\n",
       "      <th>Id</th>\n",
       "      <th>Age Cohort</th>\n",
       "      <th>Age</th>\n",
       "      <th>Gender</th>\n",
       "      <th>Expenditures</th>\n",
       "      <th>Ethnicity</th>\n",
       "    </tr>\n",
       "  </thead>\n",
       "  <tbody>\n",
       "    <tr>\n",
       "      <th>0</th>\n",
       "      <td>10210</td>\n",
       "      <td>13 to 17</td>\n",
       "      <td>17</td>\n",
       "      <td>Female</td>\n",
       "      <td>2113</td>\n",
       "      <td>White not Hispanic</td>\n",
       "    </tr>\n",
       "    <tr>\n",
       "      <th>1</th>\n",
       "      <td>10409</td>\n",
       "      <td>22 to 50</td>\n",
       "      <td>37</td>\n",
       "      <td>Male</td>\n",
       "      <td>41924</td>\n",
       "      <td>White not Hispanic</td>\n",
       "    </tr>\n",
       "    <tr>\n",
       "      <th>2</th>\n",
       "      <td>10486</td>\n",
       "      <td>0 to 5</td>\n",
       "      <td>3</td>\n",
       "      <td>Male</td>\n",
       "      <td>1454</td>\n",
       "      <td>Hispanic</td>\n",
       "    </tr>\n",
       "    <tr>\n",
       "      <th>3</th>\n",
       "      <td>10538</td>\n",
       "      <td>18 to 21</td>\n",
       "      <td>19</td>\n",
       "      <td>Female</td>\n",
       "      <td>6400</td>\n",
       "      <td>Hispanic</td>\n",
       "    </tr>\n",
       "    <tr>\n",
       "      <th>4</th>\n",
       "      <td>10568</td>\n",
       "      <td>13 to 17</td>\n",
       "      <td>13</td>\n",
       "      <td>Male</td>\n",
       "      <td>4412</td>\n",
       "      <td>White not Hispanic</td>\n",
       "    </tr>\n",
       "  </tbody>\n",
       "</table>\n",
       "</div>"
      ],
      "text/plain": [
       "      Id Age Cohort  Age  Gender  Expenditures           Ethnicity\n",
       "0  10210   13 to 17   17  Female          2113  White not Hispanic\n",
       "1  10409   22 to 50   37    Male         41924  White not Hispanic\n",
       "2  10486     0 to 5    3    Male          1454            Hispanic\n",
       "3  10538   18 to 21   19  Female          6400            Hispanic\n",
       "4  10568   13 to 17   13    Male          4412  White not Hispanic"
      ]
     },
     "execution_count": 3,
     "metadata": {},
     "output_type": "execute_result"
    }
   ],
   "source": [
    "df.head()"
   ]
  },
  {
   "cell_type": "code",
   "execution_count": 4,
   "metadata": {},
   "outputs": [
    {
     "data": {
      "text/html": [
       "<div>\n",
       "<style scoped>\n",
       "    .dataframe tbody tr th:only-of-type {\n",
       "        vertical-align: middle;\n",
       "    }\n",
       "\n",
       "    .dataframe tbody tr th {\n",
       "        vertical-align: top;\n",
       "    }\n",
       "\n",
       "    .dataframe thead th {\n",
       "        text-align: right;\n",
       "    }\n",
       "</style>\n",
       "<table border=\"1\" class=\"dataframe\">\n",
       "  <thead>\n",
       "    <tr style=\"text-align: right;\">\n",
       "      <th></th>\n",
       "      <th>Id</th>\n",
       "      <th>Age Cohort</th>\n",
       "      <th>Age</th>\n",
       "      <th>Gender</th>\n",
       "      <th>Expenditures</th>\n",
       "      <th>Ethnicity_American Indian</th>\n",
       "      <th>Ethnicity_Asian</th>\n",
       "      <th>Ethnicity_Black</th>\n",
       "      <th>Ethnicity_Hispanic</th>\n",
       "      <th>Ethnicity_Multi Race</th>\n",
       "      <th>Ethnicity_Native Hawaiian</th>\n",
       "      <th>Ethnicity_Other</th>\n",
       "      <th>Ethnicity_White not Hispanic</th>\n",
       "    </tr>\n",
       "  </thead>\n",
       "  <tbody>\n",
       "    <tr>\n",
       "      <th>0</th>\n",
       "      <td>10210</td>\n",
       "      <td>13 to 17</td>\n",
       "      <td>17</td>\n",
       "      <td>Female</td>\n",
       "      <td>2113</td>\n",
       "      <td>0</td>\n",
       "      <td>0</td>\n",
       "      <td>0</td>\n",
       "      <td>0</td>\n",
       "      <td>0</td>\n",
       "      <td>0</td>\n",
       "      <td>0</td>\n",
       "      <td>1</td>\n",
       "    </tr>\n",
       "    <tr>\n",
       "      <th>1</th>\n",
       "      <td>10409</td>\n",
       "      <td>22 to 50</td>\n",
       "      <td>37</td>\n",
       "      <td>Male</td>\n",
       "      <td>41924</td>\n",
       "      <td>0</td>\n",
       "      <td>0</td>\n",
       "      <td>0</td>\n",
       "      <td>0</td>\n",
       "      <td>0</td>\n",
       "      <td>0</td>\n",
       "      <td>0</td>\n",
       "      <td>1</td>\n",
       "    </tr>\n",
       "    <tr>\n",
       "      <th>2</th>\n",
       "      <td>10486</td>\n",
       "      <td>0 to 5</td>\n",
       "      <td>3</td>\n",
       "      <td>Male</td>\n",
       "      <td>1454</td>\n",
       "      <td>0</td>\n",
       "      <td>0</td>\n",
       "      <td>0</td>\n",
       "      <td>1</td>\n",
       "      <td>0</td>\n",
       "      <td>0</td>\n",
       "      <td>0</td>\n",
       "      <td>0</td>\n",
       "    </tr>\n",
       "    <tr>\n",
       "      <th>3</th>\n",
       "      <td>10538</td>\n",
       "      <td>18 to 21</td>\n",
       "      <td>19</td>\n",
       "      <td>Female</td>\n",
       "      <td>6400</td>\n",
       "      <td>0</td>\n",
       "      <td>0</td>\n",
       "      <td>0</td>\n",
       "      <td>1</td>\n",
       "      <td>0</td>\n",
       "      <td>0</td>\n",
       "      <td>0</td>\n",
       "      <td>0</td>\n",
       "    </tr>\n",
       "    <tr>\n",
       "      <th>4</th>\n",
       "      <td>10568</td>\n",
       "      <td>13 to 17</td>\n",
       "      <td>13</td>\n",
       "      <td>Male</td>\n",
       "      <td>4412</td>\n",
       "      <td>0</td>\n",
       "      <td>0</td>\n",
       "      <td>0</td>\n",
       "      <td>0</td>\n",
       "      <td>0</td>\n",
       "      <td>0</td>\n",
       "      <td>0</td>\n",
       "      <td>1</td>\n",
       "    </tr>\n",
       "  </tbody>\n",
       "</table>\n",
       "</div>"
      ],
      "text/plain": [
       "      Id Age Cohort  Age  Gender  Expenditures  Ethnicity_American Indian  \\\n",
       "0  10210   13 to 17   17  Female          2113                          0   \n",
       "1  10409   22 to 50   37    Male         41924                          0   \n",
       "2  10486     0 to 5    3    Male          1454                          0   \n",
       "3  10538   18 to 21   19  Female          6400                          0   \n",
       "4  10568   13 to 17   13    Male          4412                          0   \n",
       "\n",
       "   Ethnicity_Asian  Ethnicity_Black  Ethnicity_Hispanic  Ethnicity_Multi Race  \\\n",
       "0                0                0                   0                     0   \n",
       "1                0                0                   0                     0   \n",
       "2                0                0                   1                     0   \n",
       "3                0                0                   1                     0   \n",
       "4                0                0                   0                     0   \n",
       "\n",
       "   Ethnicity_Native Hawaiian  Ethnicity_Other  Ethnicity_White not Hispanic  \n",
       "0                          0                0                             1  \n",
       "1                          0                0                             1  \n",
       "2                          0                0                             0  \n",
       "3                          0                0                             0  \n",
       "4                          0                0                             1  "
      ]
     },
     "execution_count": 4,
     "metadata": {},
     "output_type": "execute_result"
    }
   ],
   "source": [
    "#Doing one hot encoding\n",
    "dataframe = pd.get_dummies(df, columns=[\"Ethnicity\"])\n",
    "dataframe.head()"
   ]
  },
  {
   "cell_type": "markdown",
   "metadata": {},
   "source": [
    "We have prepared the dataset for our analysis. The one hot encoding allows us to fetch values for our requirement"
   ]
  },
  {
   "cell_type": "markdown",
   "metadata": {
    "id": "pBrvxdVd7rEY"
   },
   "source": [
    "# Question 1\n",
    "\n",
    "Read in the data set. Make a graphic that compares the _average_ expenditures by the DDS on Hispanic residents and white (non-Hispanic) residents. Comment on what you see."
   ]
  },
  {
   "cell_type": "code",
   "execution_count": 5,
   "metadata": {},
   "outputs": [
    {
     "data": {
      "text/html": [
       "<div>\n",
       "<style scoped>\n",
       "    .dataframe tbody tr th:only-of-type {\n",
       "        vertical-align: middle;\n",
       "    }\n",
       "\n",
       "    .dataframe tbody tr th {\n",
       "        vertical-align: top;\n",
       "    }\n",
       "\n",
       "    .dataframe thead th {\n",
       "        text-align: right;\n",
       "    }\n",
       "</style>\n",
       "<table border=\"1\" class=\"dataframe\">\n",
       "  <thead>\n",
       "    <tr style=\"text-align: right;\">\n",
       "      <th></th>\n",
       "      <th>Id</th>\n",
       "      <th>Age Cohort</th>\n",
       "      <th>Age</th>\n",
       "      <th>Gender</th>\n",
       "      <th>Expenditures</th>\n",
       "      <th>Ethnicity_American Indian</th>\n",
       "      <th>Ethnicity_Asian</th>\n",
       "      <th>Ethnicity_Black</th>\n",
       "      <th>Ethnicity_Hispanic</th>\n",
       "      <th>Ethnicity_Multi Race</th>\n",
       "      <th>Ethnicity_Native Hawaiian</th>\n",
       "      <th>Ethnicity_Other</th>\n",
       "      <th>Ethnicity_White not Hispanic</th>\n",
       "    </tr>\n",
       "  </thead>\n",
       "  <tbody>\n",
       "    <tr>\n",
       "      <th>2</th>\n",
       "      <td>10486</td>\n",
       "      <td>0 to 5</td>\n",
       "      <td>3</td>\n",
       "      <td>Male</td>\n",
       "      <td>1454</td>\n",
       "      <td>0</td>\n",
       "      <td>0</td>\n",
       "      <td>0</td>\n",
       "      <td>1</td>\n",
       "      <td>0</td>\n",
       "      <td>0</td>\n",
       "      <td>0</td>\n",
       "      <td>0</td>\n",
       "    </tr>\n",
       "    <tr>\n",
       "      <th>3</th>\n",
       "      <td>10538</td>\n",
       "      <td>18 to 21</td>\n",
       "      <td>19</td>\n",
       "      <td>Female</td>\n",
       "      <td>6400</td>\n",
       "      <td>0</td>\n",
       "      <td>0</td>\n",
       "      <td>0</td>\n",
       "      <td>1</td>\n",
       "      <td>0</td>\n",
       "      <td>0</td>\n",
       "      <td>0</td>\n",
       "      <td>0</td>\n",
       "    </tr>\n",
       "    <tr>\n",
       "      <th>5</th>\n",
       "      <td>10690</td>\n",
       "      <td>13 to 17</td>\n",
       "      <td>15</td>\n",
       "      <td>Female</td>\n",
       "      <td>4566</td>\n",
       "      <td>0</td>\n",
       "      <td>0</td>\n",
       "      <td>0</td>\n",
       "      <td>1</td>\n",
       "      <td>0</td>\n",
       "      <td>0</td>\n",
       "      <td>0</td>\n",
       "      <td>0</td>\n",
       "    </tr>\n",
       "    <tr>\n",
       "      <th>9</th>\n",
       "      <td>10823</td>\n",
       "      <td>13 to 17</td>\n",
       "      <td>13</td>\n",
       "      <td>Male</td>\n",
       "      <td>2887</td>\n",
       "      <td>0</td>\n",
       "      <td>0</td>\n",
       "      <td>0</td>\n",
       "      <td>1</td>\n",
       "      <td>0</td>\n",
       "      <td>0</td>\n",
       "      <td>0</td>\n",
       "      <td>0</td>\n",
       "    </tr>\n",
       "    <tr>\n",
       "      <th>11</th>\n",
       "      <td>11024</td>\n",
       "      <td>13 to 17</td>\n",
       "      <td>14</td>\n",
       "      <td>Male</td>\n",
       "      <td>3048</td>\n",
       "      <td>0</td>\n",
       "      <td>0</td>\n",
       "      <td>0</td>\n",
       "      <td>1</td>\n",
       "      <td>0</td>\n",
       "      <td>0</td>\n",
       "      <td>0</td>\n",
       "      <td>0</td>\n",
       "    </tr>\n",
       "  </tbody>\n",
       "</table>\n",
       "</div>"
      ],
      "text/plain": [
       "       Id Age Cohort  Age  Gender  Expenditures  Ethnicity_American Indian  \\\n",
       "2   10486     0 to 5    3    Male          1454                          0   \n",
       "3   10538   18 to 21   19  Female          6400                          0   \n",
       "5   10690   13 to 17   15  Female          4566                          0   \n",
       "9   10823   13 to 17   13    Male          2887                          0   \n",
       "11  11024   13 to 17   14    Male          3048                          0   \n",
       "\n",
       "    Ethnicity_Asian  Ethnicity_Black  Ethnicity_Hispanic  \\\n",
       "2                 0                0                   1   \n",
       "3                 0                0                   1   \n",
       "5                 0                0                   1   \n",
       "9                 0                0                   1   \n",
       "11                0                0                   1   \n",
       "\n",
       "    Ethnicity_Multi Race  Ethnicity_Native Hawaiian  Ethnicity_Other  \\\n",
       "2                      0                          0                0   \n",
       "3                      0                          0                0   \n",
       "5                      0                          0                0   \n",
       "9                      0                          0                0   \n",
       "11                     0                          0                0   \n",
       "\n",
       "    Ethnicity_White not Hispanic  \n",
       "2                              0  \n",
       "3                              0  \n",
       "5                              0  \n",
       "9                              0  \n",
       "11                             0  "
      ]
     },
     "execution_count": 5,
     "metadata": {},
     "output_type": "execute_result"
    }
   ],
   "source": [
    "#Average Expenditures on Hispanic Residents\n",
    "hispanic_df = dataframe[dataframe['Ethnicity_Hispanic'] == 1]\n",
    "hispanic_exp_mean = hispanic_df['Expenditures'].mean()\n",
    "hispanic_df.head()"
   ]
  },
  {
   "cell_type": "code",
   "execution_count": 6,
   "metadata": {},
   "outputs": [
    {
     "data": {
      "text/html": [
       "<div>\n",
       "<style scoped>\n",
       "    .dataframe tbody tr th:only-of-type {\n",
       "        vertical-align: middle;\n",
       "    }\n",
       "\n",
       "    .dataframe tbody tr th {\n",
       "        vertical-align: top;\n",
       "    }\n",
       "\n",
       "    .dataframe thead th {\n",
       "        text-align: right;\n",
       "    }\n",
       "</style>\n",
       "<table border=\"1\" class=\"dataframe\">\n",
       "  <thead>\n",
       "    <tr style=\"text-align: right;\">\n",
       "      <th></th>\n",
       "      <th>Id</th>\n",
       "      <th>Age Cohort</th>\n",
       "      <th>Age</th>\n",
       "      <th>Gender</th>\n",
       "      <th>Expenditures</th>\n",
       "      <th>Ethnicity_American Indian</th>\n",
       "      <th>Ethnicity_Asian</th>\n",
       "      <th>Ethnicity_Black</th>\n",
       "      <th>Ethnicity_Hispanic</th>\n",
       "      <th>Ethnicity_Multi Race</th>\n",
       "      <th>Ethnicity_Native Hawaiian</th>\n",
       "      <th>Ethnicity_Other</th>\n",
       "      <th>Ethnicity_White not Hispanic</th>\n",
       "    </tr>\n",
       "  </thead>\n",
       "  <tbody>\n",
       "    <tr>\n",
       "      <th>0</th>\n",
       "      <td>10210</td>\n",
       "      <td>13 to 17</td>\n",
       "      <td>17</td>\n",
       "      <td>Female</td>\n",
       "      <td>2113</td>\n",
       "      <td>0</td>\n",
       "      <td>0</td>\n",
       "      <td>0</td>\n",
       "      <td>0</td>\n",
       "      <td>0</td>\n",
       "      <td>0</td>\n",
       "      <td>0</td>\n",
       "      <td>1</td>\n",
       "    </tr>\n",
       "    <tr>\n",
       "      <th>1</th>\n",
       "      <td>10409</td>\n",
       "      <td>22 to 50</td>\n",
       "      <td>37</td>\n",
       "      <td>Male</td>\n",
       "      <td>41924</td>\n",
       "      <td>0</td>\n",
       "      <td>0</td>\n",
       "      <td>0</td>\n",
       "      <td>0</td>\n",
       "      <td>0</td>\n",
       "      <td>0</td>\n",
       "      <td>0</td>\n",
       "      <td>1</td>\n",
       "    </tr>\n",
       "    <tr>\n",
       "      <th>4</th>\n",
       "      <td>10568</td>\n",
       "      <td>13 to 17</td>\n",
       "      <td>13</td>\n",
       "      <td>Male</td>\n",
       "      <td>4412</td>\n",
       "      <td>0</td>\n",
       "      <td>0</td>\n",
       "      <td>0</td>\n",
       "      <td>0</td>\n",
       "      <td>0</td>\n",
       "      <td>0</td>\n",
       "      <td>0</td>\n",
       "      <td>1</td>\n",
       "    </tr>\n",
       "    <tr>\n",
       "      <th>6</th>\n",
       "      <td>10711</td>\n",
       "      <td>13 to 17</td>\n",
       "      <td>13</td>\n",
       "      <td>Female</td>\n",
       "      <td>3915</td>\n",
       "      <td>0</td>\n",
       "      <td>0</td>\n",
       "      <td>0</td>\n",
       "      <td>0</td>\n",
       "      <td>0</td>\n",
       "      <td>0</td>\n",
       "      <td>0</td>\n",
       "      <td>1</td>\n",
       "    </tr>\n",
       "    <tr>\n",
       "      <th>8</th>\n",
       "      <td>10820</td>\n",
       "      <td>13 to 17</td>\n",
       "      <td>14</td>\n",
       "      <td>Female</td>\n",
       "      <td>5021</td>\n",
       "      <td>0</td>\n",
       "      <td>0</td>\n",
       "      <td>0</td>\n",
       "      <td>0</td>\n",
       "      <td>0</td>\n",
       "      <td>0</td>\n",
       "      <td>0</td>\n",
       "      <td>1</td>\n",
       "    </tr>\n",
       "  </tbody>\n",
       "</table>\n",
       "</div>"
      ],
      "text/plain": [
       "      Id Age Cohort  Age  Gender  Expenditures  Ethnicity_American Indian  \\\n",
       "0  10210   13 to 17   17  Female          2113                          0   \n",
       "1  10409   22 to 50   37    Male         41924                          0   \n",
       "4  10568   13 to 17   13    Male          4412                          0   \n",
       "6  10711   13 to 17   13  Female          3915                          0   \n",
       "8  10820   13 to 17   14  Female          5021                          0   \n",
       "\n",
       "   Ethnicity_Asian  Ethnicity_Black  Ethnicity_Hispanic  Ethnicity_Multi Race  \\\n",
       "0                0                0                   0                     0   \n",
       "1                0                0                   0                     0   \n",
       "4                0                0                   0                     0   \n",
       "6                0                0                   0                     0   \n",
       "8                0                0                   0                     0   \n",
       "\n",
       "   Ethnicity_Native Hawaiian  Ethnicity_Other  Ethnicity_White not Hispanic  \n",
       "0                          0                0                             1  \n",
       "1                          0                0                             1  \n",
       "4                          0                0                             1  \n",
       "6                          0                0                             1  \n",
       "8                          0                0                             1  "
      ]
     },
     "execution_count": 6,
     "metadata": {},
     "output_type": "execute_result"
    }
   ],
   "source": [
    "#Average Expenditures on White (non-Hispanic) Residents\n",
    "white_df = dataframe[dataframe['Ethnicity_White not Hispanic'] == 1]\n",
    "white_exp_mean = white_df['Expenditures'].mean()\n",
    "white_df.head()"
   ]
  },
  {
   "cell_type": "code",
   "execution_count": 7,
   "metadata": {},
   "outputs": [
    {
     "data": {
      "text/plain": [
       "[Text(0, 0, 'Hipanic'), Text(1, 0, 'White (non-Hispanic)')]"
      ]
     },
     "execution_count": 7,
     "metadata": {},
     "output_type": "execute_result"
    },
    {
     "data": {
      "image/png": "[encoded data removed]",
      "text/plain": [
       "<Figure size 720x360 with 1 Axes>"
      ]
     },
     "metadata": {
      "needs_background": "light"
     },
     "output_type": "display_data"
    }
   ],
   "source": [
    "#Plotting the information\n",
    "Mean = [hispanic_exp_mean, white_exp_mean]\n",
    "plotdata = pd.DataFrame({'Mean' : Mean})\n",
    "ax = plotdata.plot(kind = 'bar',\n",
    "                           grid = True,\n",
    "                           legend = True,\n",
    "                           figsize = (10, 5),\n",
    "                           title = 'Mean Expenditures ($)')\n",
    "for i, v in enumerate(Mean):\n",
    "    ax.text(i - 0.0625, v + 100, str(round(v, 2)))\n",
    "ax.set_xlabel('Groups')\n",
    "ax.set_ylabel('Expenditures')\n",
    "ax.set_xticklabels(labels = ['Hipanic', 'White (non-Hispanic)'], rotation = 360)"
   ]
  },
  {
   "cell_type": "markdown",
   "metadata": {
    "id": "FvfRcog37rEf"
   },
   "source": [
    "From the above graph we can say that the mean expense on Hispanic people is very less compared to white people. There is ***atleast 100% more*** spent on white people."
   ]
  },
  {
   "cell_type": "markdown",
   "metadata": {
    "id": "CmxE7M3o7rEg"
   },
   "source": [
    "# Question 2\n",
    "\n",
    "Now, calculate the average expenditures by ethnicity and age cohort. Make a graphic that compares the average expenditure on Hispanic residents and white (non-Hispanic) residents, _within each age cohort_. \n",
    "\n",
    "Comment on what you see. How do these results appear to contradict the results you obtained in Question 1?"
   ]
  },
  {
   "cell_type": "code",
   "execution_count": 8,
   "metadata": {},
   "outputs": [
    {
     "name": "stdout",
     "output_type": "stream",
     "text": [
      "Possible Age Cohorts :  ['0 to 5' '13 to 17' '18 to 21' '22 to 50' '51+' '6 to 12']\n"
     ]
    }
   ],
   "source": [
    "#Finding all the unique values \n",
    "age_values = sort(df['Age Cohort'].unique())\n",
    "print(\"Possible Age Cohorts : \", age_values)"
   ]
  },
  {
   "cell_type": "code",
   "execution_count": 9,
   "metadata": {},
   "outputs": [
    {
     "name": "stdout",
     "output_type": "stream",
     "text": [
      "Age Cohort\n",
      "0 to 5       1393.204545\n",
      "13 to 17     3955.281553\n",
      "18 to 21     9959.846154\n",
      "22 to 50    40924.116279\n",
      "51+         55585.000000\n",
      "6 to 12      2312.186813\n",
      "Name: Expenditures, dtype: float64\n"
     ]
    }
   ],
   "source": [
    "#Finding the Hispanic mean of all the combinations\n",
    "hispanic_means = hispanic_df.groupby(['Age Cohort'])['Expenditures'].mean()\n",
    "print(hispanic_means)"
   ]
  },
  {
   "cell_type": "code",
   "execution_count": 10,
   "metadata": {},
   "outputs": [
    {
     "name": "stdout",
     "output_type": "stream",
     "text": [
      "Age Cohort\n",
      "0 to 5       1366.900000\n",
      "13 to 17     3904.358209\n",
      "18 to 21    10133.057971\n",
      "22 to 50    40187.624060\n",
      "51+         52670.424242\n",
      "6 to 12      2052.260870\n",
      "Name: Expenditures, dtype: float64\n"
     ]
    }
   ],
   "source": [
    "#Finding the White mean of all the combinations\n",
    "white_means = white_df.groupby(['Age Cohort'])['Expenditures'].mean()\n",
    "print(white_means)"
   ]
  },
  {
   "cell_type": "code",
   "execution_count": 11,
   "metadata": {},
   "outputs": [
    {
     "data": {
      "text/plain": [
       "[Text(0, 0, '0 to 5'),\n",
       " Text(1, 0, '13 to 17'),\n",
       " Text(2, 0, '18 to 21'),\n",
       " Text(3, 0, '22 to 50'),\n",
       " Text(4, 0, '51+'),\n",
       " Text(5, 0, '6 to 12')]"
      ]
     },
     "execution_count": 11,
     "metadata": {},
     "output_type": "execute_result"
    },
    {
     "data": {
      "image/png": "[encoded data removed]",
      "text/plain": [
       "<Figure size 1152x360 with 1 Axes>"
      ]
     },
     "metadata": {
      "needs_background": "light"
     },
     "output_type": "display_data"
    }
   ],
   "source": [
    "#Plotting the information\n",
    "plotdata = pd.DataFrame({'Hispanic' : hispanic_means, 'White (non-Hispanic)' : white_means})\n",
    "ax = plotdata.plot(kind = 'bar',\n",
    "                           grid = True,\n",
    "                           legend = True,\n",
    "                           figsize = (16, 5),\n",
    "                           title = 'Mean Expenditures ($)')\n",
    "for i, v in enumerate(hispanic_means):\n",
    "    ax.text(i - 0.250, v + 500, str(round(v, 1)))\n",
    "for i, v in enumerate(white_means):\n",
    "    ax.text(i + 0.025, v + 500, str(round(v, 1)))\n",
    "ax.set_xlabel('Age Cohorts')\n",
    "ax.set_ylabel('Expenditures')\n",
    "ax.set_xticklabels(labels = age_values, rotation = 360)"
   ]
  },
  {
   "cell_type": "markdown",
   "metadata": {
    "id": "CFriAmRB7rEl"
   },
   "source": [
    "From the above graph we can infer that, The mean of expenditures of DDS spending on both hispanic and whites are ***almost equal***. However this ***contradicts*** with the previous graph in which we concluded that DDS spends ***atleast 100% more on whites compared to hispanic."
   ]
  },
  {
   "cell_type": "markdown",
   "metadata": {
    "id": "vNJHIPO77rEm"
   },
   "source": [
    "# Question 3\n",
    "\n",
    "Can you explain the discrepancy between the two analyses you conducted above (i.e., Questions 1 and 2)? Try to tell a complete story that interweaves tables, graphics, and explanation.\n",
    "\n",
    "_Hint:_ You might want to consider looking at:\n",
    "\n",
    "- the distributions of ages of Hispanics and whites\n",
    "- the average expenditure as a function of age"
   ]
  },
  {
   "cell_type": "markdown",
   "metadata": {
    "id": "mo4aLinP7rEn"
   },
   "source": [
    "The contradiction occurs because we are looking at the mean instead of the sheer values. ***Yes, the average spending is same but the number of spendings on whites are more than hispanics***. This causes the discrimination. Let's dive deeper!"
   ]
  },
  {
   "cell_type": "code",
   "execution_count": 12,
   "metadata": {},
   "outputs": [
    {
     "name": "stdout",
     "output_type": "stream",
     "text": [
      "Age Cohort\n",
      "0 to 5       44\n",
      "13 to 17    103\n",
      "18 to 21     78\n",
      "22 to 50     43\n",
      "51+          17\n",
      "6 to 12      91\n",
      "Name: Expenditures, dtype: int64\n"
     ]
    }
   ],
   "source": [
    "#Finding the Hispanic count of all the combinations\n",
    "hispanic_count = hispanic_df.groupby(['Age Cohort'])['Expenditures'].count()\n",
    "print(hispanic_count)"
   ]
  },
  {
   "cell_type": "code",
   "execution_count": 13,
   "metadata": {},
   "outputs": [
    {
     "name": "stdout",
     "output_type": "stream",
     "text": [
      "Age Cohort\n",
      "0 to 5       20\n",
      "13 to 17     67\n",
      "18 to 21     69\n",
      "22 to 50    133\n",
      "51+          66\n",
      "6 to 12      46\n",
      "Name: Expenditures, dtype: int64\n"
     ]
    }
   ],
   "source": [
    "#Finding the White count of all the combinations\n",
    "white_count = white_df.groupby(['Age Cohort'])['Expenditures'].count()\n",
    "print(white_count)"
   ]
  },
  {
   "cell_type": "code",
   "execution_count": 14,
   "metadata": {},
   "outputs": [
    {
     "data": {
      "text/plain": [
       "[Text(0, 0, '0 to 5'),\n",
       " Text(1, 0, '13 to 17'),\n",
       " Text(2, 0, '18 to 21'),\n",
       " Text(3, 0, '22 to 50'),\n",
       " Text(4, 0, '51+'),\n",
       " Text(5, 0, '6 to 12')]"
      ]
     },
     "execution_count": 14,
     "metadata": {},
     "output_type": "execute_result"
    },
    {
     "data": {
      "image/png": "[encoded data removed]",
      "text/plain": [
       "<Figure size 1152x360 with 1 Axes>"
      ]
     },
     "metadata": {
      "needs_background": "light"
     },
     "output_type": "display_data"
    }
   ],
   "source": [
    "#Plotting the information\n",
    "plotdata = pd.DataFrame({'Hispanic' : hispanic_count, 'White (non-Hispanic)' : white_count})\n",
    "ax = plotdata.plot(kind = 'bar',\n",
    "                           grid = True,\n",
    "                           legend = True,\n",
    "                           figsize = (16, 5),\n",
    "                           title = 'Age Cohort Distribution')\n",
    "for i, v in enumerate(hispanic_count):\n",
    "    ax.text(i - 0.155, v + 1, str(round(v, 1)))\n",
    "for i, v in enumerate(white_count):\n",
    "    ax.text(i + 0.055, v + 1, str(round(v, 1)))\n",
    "ax.set_xlabel('Age Cohorts')\n",
    "ax.set_ylabel('Count')\n",
    "ax.set_xticklabels(labels = age_values, rotation = 360)"
   ]
  },
  {
   "cell_type": "code",
   "execution_count": 15,
   "metadata": {},
   "outputs": [
    {
     "data": {
      "text/plain": [
       "[Text(0, 0, '0 to 5'),\n",
       " Text(1, 0, '13 to 17'),\n",
       " Text(2, 0, '18 to 21'),\n",
       " Text(3, 0, '22 to 50'),\n",
       " Text(4, 0, '51+'),\n",
       " Text(5, 0, '6 to 12')]"
      ]
     },
     "execution_count": 15,
     "metadata": {},
     "output_type": "execute_result"
    },
    {
     "data": {
      "image/png": "[encoded data removed]",
      "text/plain": [
       "<Figure size 1152x360 with 1 Axes>"
      ]
     },
     "metadata": {
      "needs_background": "light"
     },
     "output_type": "display_data"
    }
   ],
   "source": [
    "#Plotting the information\n",
    "plotdata = pd.DataFrame({'Hispanic' : hispanic_means, 'White (non-Hispanic)' : white_means})\n",
    "ax = plotdata.plot(kind = 'bar',\n",
    "                           grid = True,\n",
    "                           legend = True,\n",
    "                           figsize = (16, 5),\n",
    "                           title = 'Mean Expenditures ($) based on Age Cohorts')\n",
    "for i, v in enumerate(hispanic_means):\n",
    "    ax.text(i - 0.250, v + 500, str(round(v, 1)))\n",
    "for i, v in enumerate(white_means):\n",
    "    ax.text(i + 0.025, v + 500, str(round(v, 1)))\n",
    "ax.set_xlabel('Age Cohorts')\n",
    "ax.set_ylabel('Expenditures')\n",
    "ax.set_xticklabels(labels = age_values, rotation = 360)"
   ]
  },
  {
   "cell_type": "markdown",
   "metadata": {
    "id": "dmdJ1RTp7rEq"
   },
   "source": [
    "At the start, we were able to identify the descrimination using simple mean analysis. But we did not identify the cause of this descrimination. On further analysis, we can identify the ***number of expenditures on whites are more than hispanics***. \n",
    "\n",
    "Now to further break it down, we were able to find a pattern, From the above mean expenditures graph we can infer that ***DDS spent most on people above the age 22 (alteast four/five times)***. \n",
    "\n",
    "Then, with the help of age distribution graph we can identify that ***DDS chose more white people than hispanic above the age of 22 to spend on***. \n",
    "\n",
    "This age distribution coupled with the mean expense, we can pinpoint the ***cause of discrimination!***"
   ]
  },
  {
   "cell_type": "markdown",
   "metadata": {
    "id": "4JdcqKm57rEr"
   },
   "source": [
    "## Submission Instructions\n",
    "\n",
    "- Restart this notebook and run the cells from beginning to end. \n",
    "  - Go to Runtime > Restart and Run All.\n",
    "- Rename this notebook by clicking on \"Lab 1B - Evidence of Discrimination - YOUR NAMES HERE\" at the very top of this page. Replace \"YOUR NAMES HERE\" with the first and last names of you and your partner (if you worked with one).\n",
    "- Demo lab to TA and upload to eLearn. "
   ]
  }
 ],
 "metadata": {
  "colab": {
   "collapsed_sections": [],
   "name": "Copy of DATA 301 Lab 2B. Evidence of Discrimination? - YOUR NAMES HERE",
   "provenance": []
  },
  "kernelspec": {
   "display_name": "Python 3",
   "language": "python",
   "name": "python3"
  },
  "language_info": {
   "codemirror_mode": {
    "name": "ipython",
    "version": 3
   },
   "file_extension": ".py",
   "mimetype": "text/x-python",
   "name": "python",
   "nbconvert_exporter": "python",
   "pygments_lexer": "ipython3",
   "version": "3.8.10"
  }
 },
 "nbformat": 4,
 "nbformat_minor": 4
}

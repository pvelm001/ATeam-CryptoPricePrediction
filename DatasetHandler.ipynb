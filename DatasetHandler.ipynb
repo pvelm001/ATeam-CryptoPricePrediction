{
 "cells": [
  {
   "cell_type": "code",
   "execution_count": 1,
   "id": "2ca472d9-25a0-4061-a8f4-a0f7a9665b04",
   "metadata": {},
   "outputs": [],
   "source": [
    "import import_ipynb #Import for accessing other ipynb notebooks"
   ]
  },
  {
   "cell_type": "code",
   "execution_count": 2,
   "id": "d0e1465a-2ae3-4408-86d2-37514d768185",
   "metadata": {},
   "outputs": [
    {
     "name": "stdout",
     "output_type": "stream",
     "text": [
      "importing Jupyter notebook from Utils.ipynb\n"
     ]
    }
   ],
   "source": [
    "# Necessary Imports\n",
    "import Utils\n",
    "from Utils import FileHandler\n",
    "import os\n",
    "import glob\n",
    "import pandas as pd\n",
    "from Utils import CryptoRow"
   ]
  },
  {
   "cell_type": "code",
   "execution_count": 3,
   "id": "336db852-3e52-4df5-afd8-cdb2243bb7de",
   "metadata": {},
   "outputs": [],
   "source": [
    "# Class to read historic data\n",
    "# Can read specific files or all files\n",
    "class DatasetHandler:\n",
    "    path = os.getcwd() + \"/\" + \"datasets\" + \"/\" + \"historic\"\n",
    "    specificFiles = []\n",
    "    \n",
    "    dataFrames = []\n",
    "    \n",
    "    def __init__(self, specificFiles):\n",
    "        self.specificFiles = specificFiles\n",
    "        self.dataFrames = []\n",
    "    \n",
    "    def readFiles(self):\n",
    "        csvFiles = \"\";\n",
    "        print(self.specificFiles)\n",
    "        if len(self.specificFiles) == 0:\n",
    "            csv_files = glob.glob(os.path.join(self.path, \"*.csv\")) \n",
    "        else:\n",
    "            csv_files = self.specificFiles\n",
    "        \n",
    "        for file in csv_files:\n",
    "            fileHandler = FileHandler(file)\n",
    "            fileHandler.readFile()\n",
    "            self.dataFrames.append(fileHandler.getReadHandle())\n",
    "\n",
    "    def getDataFrames(self):\n",
    "        return self.dataFrames\n",
    "    \n",
    "    def mergeDataFrames(self):\n",
    "        cryptoRow = CryptoRow()\n",
    "        return cryptoRow.stripDateFrame(pd.concat(self.dataFrames))"
   ]
  }
 ],
 "metadata": {
  "kernelspec": {
   "display_name": "Python 3",
   "language": "python",
   "name": "python3"
  },
  "language_info": {
   "codemirror_mode": {
    "name": "ipython",
    "version": 3
   },
   "file_extension": ".py",
   "mimetype": "text/x-python",
   "name": "python",
   "nbconvert_exporter": "python",
   "pygments_lexer": "ipython3",
   "version": "3.8.10"
  }
 },
 "nbformat": 4,
 "nbformat_minor": 5
}
